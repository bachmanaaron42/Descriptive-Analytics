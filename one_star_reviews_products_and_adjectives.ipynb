{
 "cells": [
  {
   "cell_type": "markdown",
   "metadata": {},
   "source": [
    "# Amazon Fine Foods Reviews\n",
    "\n",
    "This analysis seeks to understand some of the most frequent product names and adjectives used within 1-star fine food reviews. The data set was downloaded from Kaggle (uploaded by Stanford Network Analysis project)."
   ]
  },
  {
   "cell_type": "code",
   "execution_count": 1,
   "metadata": {},
   "outputs": [],
   "source": [
    "import pandas as pd"
   ]
  },
  {
   "cell_type": "code",
   "execution_count": 2,
   "metadata": {},
   "outputs": [
    {
     "data": {
      "text/html": [
       "<div>\n",
       "<style scoped>\n",
       "    .dataframe tbody tr th:only-of-type {\n",
       "        vertical-align: middle;\n",
       "    }\n",
       "\n",
       "    .dataframe tbody tr th {\n",
       "        vertical-align: top;\n",
       "    }\n",
       "\n",
       "    .dataframe thead th {\n",
       "        text-align: right;\n",
       "    }\n",
       "</style>\n",
       "<table border=\"1\" class=\"dataframe\">\n",
       "  <thead>\n",
       "    <tr style=\"text-align: right;\">\n",
       "      <th></th>\n",
       "      <th>Id</th>\n",
       "      <th>ProductId</th>\n",
       "      <th>UserId</th>\n",
       "      <th>ProfileName</th>\n",
       "      <th>HelpfulnessNumerator</th>\n",
       "      <th>HelpfulnessDenominator</th>\n",
       "      <th>Score</th>\n",
       "      <th>Time</th>\n",
       "      <th>Summary</th>\n",
       "      <th>Text</th>\n",
       "    </tr>\n",
       "  </thead>\n",
       "  <tbody>\n",
       "    <tr>\n",
       "      <th>0</th>\n",
       "      <td>1</td>\n",
       "      <td>B001E4KFG0</td>\n",
       "      <td>A3SGXH7AUHU8GW</td>\n",
       "      <td>delmartian</td>\n",
       "      <td>1</td>\n",
       "      <td>1</td>\n",
       "      <td>5</td>\n",
       "      <td>1303862400</td>\n",
       "      <td>Good Quality Dog Food</td>\n",
       "      <td>I have bought several of the Vitality canned d...</td>\n",
       "    </tr>\n",
       "    <tr>\n",
       "      <th>1</th>\n",
       "      <td>2</td>\n",
       "      <td>B00813GRG4</td>\n",
       "      <td>A1D87F6ZCVE5NK</td>\n",
       "      <td>dll pa</td>\n",
       "      <td>0</td>\n",
       "      <td>0</td>\n",
       "      <td>1</td>\n",
       "      <td>1346976000</td>\n",
       "      <td>Not as Advertised</td>\n",
       "      <td>Product arrived labeled as Jumbo Salted Peanut...</td>\n",
       "    </tr>\n",
       "    <tr>\n",
       "      <th>2</th>\n",
       "      <td>3</td>\n",
       "      <td>B000LQOCH0</td>\n",
       "      <td>ABXLMWJIXXAIN</td>\n",
       "      <td>Natalia Corres \"Natalia Corres\"</td>\n",
       "      <td>1</td>\n",
       "      <td>1</td>\n",
       "      <td>4</td>\n",
       "      <td>1219017600</td>\n",
       "      <td>\"Delight\" says it all</td>\n",
       "      <td>This is a confection that has been around a fe...</td>\n",
       "    </tr>\n",
       "    <tr>\n",
       "      <th>3</th>\n",
       "      <td>4</td>\n",
       "      <td>B000UA0QIQ</td>\n",
       "      <td>A395BORC6FGVXV</td>\n",
       "      <td>Karl</td>\n",
       "      <td>3</td>\n",
       "      <td>3</td>\n",
       "      <td>2</td>\n",
       "      <td>1307923200</td>\n",
       "      <td>Cough Medicine</td>\n",
       "      <td>If you are looking for the secret ingredient i...</td>\n",
       "    </tr>\n",
       "    <tr>\n",
       "      <th>4</th>\n",
       "      <td>5</td>\n",
       "      <td>B006K2ZZ7K</td>\n",
       "      <td>A1UQRSCLF8GW1T</td>\n",
       "      <td>Michael D. Bigham \"M. Wassir\"</td>\n",
       "      <td>0</td>\n",
       "      <td>0</td>\n",
       "      <td>5</td>\n",
       "      <td>1350777600</td>\n",
       "      <td>Great taffy</td>\n",
       "      <td>Great taffy at a great price.  There was a wid...</td>\n",
       "    </tr>\n",
       "  </tbody>\n",
       "</table>\n",
       "</div>"
      ],
      "text/plain": [
       "   Id   ProductId          UserId                      ProfileName  \\\n",
       "0   1  B001E4KFG0  A3SGXH7AUHU8GW                       delmartian   \n",
       "1   2  B00813GRG4  A1D87F6ZCVE5NK                           dll pa   \n",
       "2   3  B000LQOCH0   ABXLMWJIXXAIN  Natalia Corres \"Natalia Corres\"   \n",
       "3   4  B000UA0QIQ  A395BORC6FGVXV                             Karl   \n",
       "4   5  B006K2ZZ7K  A1UQRSCLF8GW1T    Michael D. Bigham \"M. Wassir\"   \n",
       "\n",
       "   HelpfulnessNumerator  HelpfulnessDenominator  Score        Time  \\\n",
       "0                     1                       1      5  1303862400   \n",
       "1                     0                       0      1  1346976000   \n",
       "2                     1                       1      4  1219017600   \n",
       "3                     3                       3      2  1307923200   \n",
       "4                     0                       0      5  1350777600   \n",
       "\n",
       "                 Summary                                               Text  \n",
       "0  Good Quality Dog Food  I have bought several of the Vitality canned d...  \n",
       "1      Not as Advertised  Product arrived labeled as Jumbo Salted Peanut...  \n",
       "2  \"Delight\" says it all  This is a confection that has been around a fe...  \n",
       "3         Cough Medicine  If you are looking for the secret ingredient i...  \n",
       "4            Great taffy  Great taffy at a great price.  There was a wid...  "
      ]
     },
     "execution_count": 2,
     "metadata": {},
     "output_type": "execute_result"
    }
   ],
   "source": [
    "# read the CSV file\n",
    "reviews = pd.read_csv('amazon_fine_foods_reviews.csv')\n",
    "\n",
    "# verify the data\n",
    "reviews.head()"
   ]
  },
  {
   "cell_type": "code",
   "execution_count": 3,
   "metadata": {},
   "outputs": [
    {
     "name": "stdout",
     "output_type": "stream",
     "text": [
      "10\n"
     ]
    }
   ],
   "source": [
    "# print the number of columns in the data set\n",
    "print(len(reviews.keys()))"
   ]
  },
  {
   "cell_type": "code",
   "execution_count": 4,
   "metadata": {},
   "outputs": [
    {
     "data": {
      "text/plain": [
       "(568454, 10)"
      ]
     },
     "execution_count": 4,
     "metadata": {},
     "output_type": "execute_result"
    }
   ],
   "source": [
    "# print the number of rows and columns in the data set\n",
    "reviews.shape"
   ]
  },
  {
   "cell_type": "code",
   "execution_count": 5,
   "metadata": {},
   "outputs": [
    {
     "name": "stdout",
     "output_type": "stream",
     "text": [
      "<class 'pandas.core.frame.DataFrame'>\n",
      "RangeIndex: 568454 entries, 0 to 568453\n",
      "Data columns (total 10 columns):\n",
      " #   Column                  Non-Null Count   Dtype \n",
      "---  ------                  --------------   ----- \n",
      " 0   Id                      568454 non-null  int64 \n",
      " 1   ProductId               568454 non-null  object\n",
      " 2   UserId                  568454 non-null  object\n",
      " 3   ProfileName             568438 non-null  object\n",
      " 4   HelpfulnessNumerator    568454 non-null  int64 \n",
      " 5   HelpfulnessDenominator  568454 non-null  int64 \n",
      " 6   Score                   568454 non-null  int64 \n",
      " 7   Time                    568454 non-null  int64 \n",
      " 8   Summary                 568427 non-null  object\n",
      " 9   Text                    568454 non-null  object\n",
      "dtypes: int64(5), object(5)\n",
      "memory usage: 43.4+ MB\n"
     ]
    }
   ],
   "source": [
    "# print the column names and types\n",
    "reviews.info()"
   ]
  },
  {
   "cell_type": "code",
   "execution_count": 6,
   "metadata": {},
   "outputs": [
    {
     "data": {
      "text/plain": [
       "5    363122\n",
       "4     80655\n",
       "1     52268\n",
       "3     42640\n",
       "2     29769\n",
       "Name: Score, dtype: int64"
      ]
     },
     "execution_count": 6,
     "metadata": {},
     "output_type": "execute_result"
    }
   ],
   "source": [
    "# verify the distribution of scores\n",
    "reviews['Score'].value_counts()"
   ]
  },
  {
   "cell_type": "code",
   "execution_count": 7,
   "metadata": {},
   "outputs": [
    {
     "data": {
      "text/plain": [
       "<AxesSubplot:>"
      ]
     },
     "execution_count": 7,
     "metadata": {},
     "output_type": "execute_result"
    },
    {
     "data": {
      "image/png": "[encoded data removed]",
      "text/plain": [
       "<Figure size 432x288 with 1 Axes>"
      ]
     },
     "metadata": {
      "needs_background": "light"
     },
     "output_type": "display_data"
    }
   ],
   "source": [
    "# display distribution\n",
    "reviews['Score'].value_counts().sort_index(ascending=False).plot(kind='bar')"
   ]
  },
  {
   "cell_type": "markdown",
   "metadata": {},
   "source": [
    "## Initial Analysis\n",
    "\n",
    "As shown in the bar chart above, most of the fine foods reviews are 5 stars (with over 350,000 5-star reviews). Each of the remaining possible scores (stars) has less than 100,000 reviews each.\n",
    "\n",
    "Since there are over 500,000 records in the data set, a sample of 2,000 reviews will be taken for analysis of a subset of the data."
   ]
  },
  {
   "cell_type": "code",
   "execution_count": 8,
   "metadata": {},
   "outputs": [],
   "source": [
    "# create a subset of data for analysis\n",
    "sample_reviews = reviews.sample(n=2000)"
   ]
  },
  {
   "cell_type": "code",
   "execution_count": 9,
   "metadata": {},
   "outputs": [
    {
     "data": {
      "text/plain": [
       "(2000, 10)"
      ]
     },
     "execution_count": 9,
     "metadata": {},
     "output_type": "execute_result"
    }
   ],
   "source": [
    "# verify the number of samples is correct\n",
    "sample_reviews.shape"
   ]
  },
  {
   "cell_type": "code",
   "execution_count": 10,
   "metadata": {},
   "outputs": [
    {
     "data": {
      "text/plain": [
       "<AxesSubplot:>"
      ]
     },
     "execution_count": 10,
     "metadata": {},
     "output_type": "execute_result"
    },
    {
     "data": {
      "image/png": "[encoded data removed]",
      "text/plain": [
       "<Figure size 432x288 with 1 Axes>"
      ]
     },
     "metadata": {
      "needs_background": "light"
     },
     "output_type": "display_data"
    }
   ],
   "source": [
    "# display distribution of reviews for sample data set\n",
    "sample_reviews['Score'].value_counts().sort_index(ascending=False).plot(kind='bar')"
   ]
  },
  {
   "cell_type": "code",
   "execution_count": 11,
   "metadata": {},
   "outputs": [],
   "source": [
    "import spacy\n",
    "nlp = spacy.load('en_core_web_sm')"
   ]
  },
  {
   "cell_type": "code",
   "execution_count": 12,
   "metadata": {},
   "outputs": [
    {
     "data": {
      "text/plain": [
       "(52268, 10)"
      ]
     },
     "execution_count": 12,
     "metadata": {},
     "output_type": "execute_result"
    }
   ],
   "source": [
    "# create subset of initial data with only 1-star reviews\n",
    "one_star_reviews = reviews[reviews['Score'] == 1]\n",
    "\n",
    "# verify shape of data set\n",
    "one_star_reviews.shape"
   ]
  },
  {
   "cell_type": "code",
   "execution_count": 13,
   "metadata": {},
   "outputs": [
    {
     "data": {
      "text/plain": [
       "<AxesSubplot:>"
      ]
     },
     "execution_count": 13,
     "metadata": {},
     "output_type": "execute_result"
    },
    {
     "data": {
      "image/png": "[encoded data removed]",
      "text/plain": [
       "<Figure size 432x288 with 1 Axes>"
      ]
     },
     "metadata": {
      "needs_background": "light"
     },
     "output_type": "display_data"
    }
   ],
   "source": [
    "# verify the reviews are only 1 star\n",
    "one_star_reviews['Score'].value_counts().plot(kind='bar')"
   ]
  },
  {
   "cell_type": "code",
   "execution_count": 14,
   "metadata": {},
   "outputs": [
    {
     "data": {
      "text/html": [
       "<div>\n",
       "<style scoped>\n",
       "    .dataframe tbody tr th:only-of-type {\n",
       "        vertical-align: middle;\n",
       "    }\n",
       "\n",
       "    .dataframe tbody tr th {\n",
       "        vertical-align: top;\n",
       "    }\n",
       "\n",
       "    .dataframe thead th {\n",
       "        text-align: right;\n",
       "    }\n",
       "</style>\n",
       "<table border=\"1\" class=\"dataframe\">\n",
       "  <thead>\n",
       "    <tr style=\"text-align: right;\">\n",
       "      <th></th>\n",
       "      <th>Id</th>\n",
       "      <th>ProductId</th>\n",
       "      <th>UserId</th>\n",
       "      <th>ProfileName</th>\n",
       "      <th>HelpfulnessNumerator</th>\n",
       "      <th>HelpfulnessDenominator</th>\n",
       "      <th>Score</th>\n",
       "      <th>Time</th>\n",
       "      <th>Summary</th>\n",
       "      <th>Text</th>\n",
       "    </tr>\n",
       "  </thead>\n",
       "  <tbody>\n",
       "    <tr>\n",
       "      <th>1</th>\n",
       "      <td>2</td>\n",
       "      <td>B00813GRG4</td>\n",
       "      <td>A1D87F6ZCVE5NK</td>\n",
       "      <td>dll pa</td>\n",
       "      <td>0</td>\n",
       "      <td>0</td>\n",
       "      <td>1</td>\n",
       "      <td>1346976000</td>\n",
       "      <td>Not as Advertised</td>\n",
       "      <td>Product arrived labeled as Jumbo Salted Peanut...</td>\n",
       "    </tr>\n",
       "    <tr>\n",
       "      <th>12</th>\n",
       "      <td>13</td>\n",
       "      <td>B0009XLVG0</td>\n",
       "      <td>A327PCT23YH90</td>\n",
       "      <td>LT</td>\n",
       "      <td>1</td>\n",
       "      <td>1</td>\n",
       "      <td>1</td>\n",
       "      <td>1339545600</td>\n",
       "      <td>My Cats Are Not Fans of the New Food</td>\n",
       "      <td>My cats have been happily eating Felidae Plati...</td>\n",
       "    </tr>\n",
       "    <tr>\n",
       "      <th>26</th>\n",
       "      <td>27</td>\n",
       "      <td>B001GVISJM</td>\n",
       "      <td>A3RXAU2N8KV45G</td>\n",
       "      <td>lady21</td>\n",
       "      <td>0</td>\n",
       "      <td>1</td>\n",
       "      <td>1</td>\n",
       "      <td>1332633600</td>\n",
       "      <td>Nasty No flavor</td>\n",
       "      <td>The candy is just red , No flavor . Just  plan...</td>\n",
       "    </tr>\n",
       "    <tr>\n",
       "      <th>50</th>\n",
       "      <td>51</td>\n",
       "      <td>B001EO5QW8</td>\n",
       "      <td>A108P30XVUFKXY</td>\n",
       "      <td>Roberto A</td>\n",
       "      <td>0</td>\n",
       "      <td>7</td>\n",
       "      <td>1</td>\n",
       "      <td>1203379200</td>\n",
       "      <td>Don't like it</td>\n",
       "      <td>This oatmeal is not good. Its mushy, soft, I d...</td>\n",
       "    </tr>\n",
       "    <tr>\n",
       "      <th>62</th>\n",
       "      <td>63</td>\n",
       "      <td>B001EO5TPM</td>\n",
       "      <td>A1E09XGZUR78C6</td>\n",
       "      <td>gary sturrock</td>\n",
       "      <td>2</td>\n",
       "      <td>2</td>\n",
       "      <td>1</td>\n",
       "      <td>1215302400</td>\n",
       "      <td>stale product.</td>\n",
       "      <td>Arrived in 6 days and were so stale i could no...</td>\n",
       "    </tr>\n",
       "  </tbody>\n",
       "</table>\n",
       "</div>"
      ],
      "text/plain": [
       "    Id   ProductId          UserId    ProfileName  HelpfulnessNumerator  \\\n",
       "1    2  B00813GRG4  A1D87F6ZCVE5NK         dll pa                     0   \n",
       "12  13  B0009XLVG0   A327PCT23YH90             LT                     1   \n",
       "26  27  B001GVISJM  A3RXAU2N8KV45G         lady21                     0   \n",
       "50  51  B001EO5QW8  A108P30XVUFKXY      Roberto A                     0   \n",
       "62  63  B001EO5TPM  A1E09XGZUR78C6  gary sturrock                     2   \n",
       "\n",
       "    HelpfulnessDenominator  Score        Time  \\\n",
       "1                        0      1  1346976000   \n",
       "12                       1      1  1339545600   \n",
       "26                       1      1  1332633600   \n",
       "50                       7      1  1203379200   \n",
       "62                       2      1  1215302400   \n",
       "\n",
       "                                 Summary  \\\n",
       "1                      Not as Advertised   \n",
       "12  My Cats Are Not Fans of the New Food   \n",
       "26                       Nasty No flavor   \n",
       "50                         Don't like it   \n",
       "62                        stale product.   \n",
       "\n",
       "                                                 Text  \n",
       "1   Product arrived labeled as Jumbo Salted Peanut...  \n",
       "12  My cats have been happily eating Felidae Plati...  \n",
       "26  The candy is just red , No flavor . Just  plan...  \n",
       "50  This oatmeal is not good. Its mushy, soft, I d...  \n",
       "62  Arrived in 6 days and were so stale i could no...  "
      ]
     },
     "execution_count": 14,
     "metadata": {},
     "output_type": "execute_result"
    }
   ],
   "source": [
    "# verify first few records of new data subset\n",
    "one_star_reviews.head()"
   ]
  },
  {
   "cell_type": "code",
   "execution_count": 15,
   "metadata": {},
   "outputs": [],
   "source": [
    "# create a sample of only 1-star reviews\n",
    "one_star_sample = one_star_reviews.sample(n=2000)"
   ]
  },
  {
   "cell_type": "code",
   "execution_count": 16,
   "metadata": {},
   "outputs": [
    {
     "data": {
      "text/plain": [
       "(2000, 10)"
      ]
     },
     "execution_count": 16,
     "metadata": {},
     "output_type": "execute_result"
    }
   ],
   "source": [
    "# verify the number of rows\n",
    "one_star_sample.shape"
   ]
  },
  {
   "cell_type": "markdown",
   "metadata": {},
   "source": [
    "# Text Analysis\n",
    "\n",
    "Now that the sample data frame contains only 1-star reviews, the next step is to analyze the 'Text' column for frequently used products."
   ]
  },
  {
   "cell_type": "code",
   "execution_count": 17,
   "metadata": {},
   "outputs": [],
   "source": [
    "# perform NLP pre-processing one one text document\n",
    "doc = nlp(''.join(str(one_star_sample['Text'].tolist())))"
   ]
  },
  {
   "cell_type": "code",
   "execution_count": 18,
   "metadata": {},
   "outputs": [
    {
     "name": "stdout",
     "output_type": "stream",
     "text": [
      "[\"Ordered these for a clients' wedding after reading some good reviews.  The almonds were shipped in a way too small bubble envelope mailer.  When they arrived, the envelope was ripped open and about half of the almonds were unusable because they were broken and crushed during shipping.  Terrible packaging job!  Suck it up and use a real box.  I know it costs more but it almost destroyed this order (ruined half actually).  I'm a small business owner and want to keep costs down too but this was just unacceptable.<br /><br />As for the quality of the almonds that survived: they were ok.  Not terrible, but I found the ones we ordered through nuts.com to be better (thinner candy coating, larger almonds, fresher taste).  Yes, they're more expensive but after not being able to use a good portion of this order, it may be worth it.  They at least ship their items in a padded box.\", \"I will preface this by saying that\n"
     ]
    }
   ],
   "source": [
    "# verify the few several characters the document\n",
    "print(doc[0:200])"
   ]
  },
  {
   "cell_type": "code",
   "execution_count": 19,
   "metadata": {},
   "outputs": [],
   "source": [
    "# remove unecessary backslashes from the text\n",
    "doc = nlp(str(doc).replace('\\\\', ''))"
   ]
  },
  {
   "cell_type": "code",
   "execution_count": 20,
   "metadata": {},
   "outputs": [],
   "source": [
    "# remove <br /> HTML tags\n",
    "doc = nlp(str(doc).replace('<br />', ''))"
   ]
  },
  {
   "cell_type": "code",
   "execution_count": 21,
   "metadata": {},
   "outputs": [
    {
     "name": "stdout",
     "output_type": "stream",
     "text": [
      "[['Valerian' '8']\n",
      " ['Diet Coke' '4']\n",
      " ['ConAgra' '3']\n",
      " ['Crystal Light' '3']\n",
      " ['Gatorade' '3']\n",
      " ['Subscribe' '3']\n",
      " ['Dingo' '2']\n",
      " ['IM TRULY SURPRISED' '2']\n",
      " ['Jack Links' '2']\n",
      " ['Own Organics' '2']\n",
      " ['Trident' '2']\n",
      " ['B001VNGJU0\">Frontier Poppy Seed Whole' '1']\n",
      " ['Barilla' '1']\n",
      " ['Beef' '1']\n",
      " ['Blood' '1']\n",
      " ['Blue Mountain Coffer' '1']\n",
      " ['Clam Chowder' '1']\n",
      " ['Classic' '1']\n",
      " ['Classic Coke' '1']\n",
      " ['Dreamcoat' '1']]\n"
     ]
    }
   ],
   "source": [
    "# remove stop words from the text\n",
    "from spacy.lang.en import STOP_WORDS\n",
    "\n",
    "# create list to store one star products\n",
    "one_star_products = []\n",
    "\n",
    "# add words to list if they are tagged as a product and not a stop word\n",
    "for ent in doc.ents:\n",
    "    if ent.label_ == \"PRODUCT\":\n",
    "        if ent.label_ not in STOP_WORDS:\n",
    "            one_star_products.append(str(ent))\n",
    "\n",
    "# sort the products in alphabetical order\n",
    "sorted_products = sorted(one_star_products, key=str)\n",
    "\n",
    "# import Counter to store list values as keys, and their frequencies as values\n",
    "# in a dictionary\n",
    "\n",
    "from collections import Counter\n",
    "import numpy as np\n",
    "\n",
    "# store the most frequent 20 products into an array\n",
    "most_frequent = np.asarray(Counter(sorted_products).most_common(20))\n",
    "\n",
    "# print the top twenty products\n",
    "print(most_frequent)"
   ]
  },
  {
   "cell_type": "code",
   "execution_count": 22,
   "metadata": {},
   "outputs": [
    {
     "data": {
      "image/png": "[encoded data removed]",
      "text/plain": [
       "<Figure size 432x288 with 1 Axes>"
      ]
     },
     "metadata": {
      "needs_background": "light"
     },
     "output_type": "display_data"
    }
   ],
   "source": [
    "import matplotlib.pyplot as plt\n",
    "\n",
    "fig, ax = plt.subplots()\n",
    "\n",
    "# configure horizontal bar chart of most frequenty terms, and their counts\n",
    "# from the list of Counter tuples\n",
    "plt.barh(most_frequent[:,0], [int(x) for x in most_frequent[:,1]],\n",
    "                             color='orange', align='center')\n",
    "\n",
    "# invert the Y-axis to display the most frequent on top\n",
    "ax.invert_yaxis()\n",
    "\n",
    "# label the X-axis\n",
    "ax.set_xlabel('Common Products Mentioned in 1-Star Reviews')\n",
    "\n",
    "# display the plot\n",
    "plt.show()"
   ]
  },
  {
   "cell_type": "markdown",
   "metadata": {},
   "source": [
    "## Product Analysis\n",
    "\n",
    "As shown in the bar chart above, the most frequently mentioned product in 1-star reviews is Valerian (mentioned in 8 reviews), followed by Diet Coke (mentioned in 4 reviews)."
   ]
  },
  {
   "cell_type": "code",
   "execution_count": 23,
   "metadata": {},
   "outputs": [
    {
     "name": "stdout",
     "output_type": "stream",
     "text": [
      "[['good' '444']\n",
      " ['other' '334']\n",
      " ['more' '256']\n",
      " ['same' '236']\n",
      " ['bad' '228']\n",
      " ['little' '197']\n",
      " ['first' '182']\n",
      " ['better' '170']\n",
      " ['great' '170']\n",
      " ['old' '169']\n",
      " ['few' '163']\n",
      " ['different' '153']\n",
      " ['disappointed' '136']\n",
      " ['much' '132']\n",
      " ['real' '127']\n",
      " ['new' '124']\n",
      " ['many' '123']\n",
      " ['free' '112']\n",
      " ['sweet' '110']\n",
      " ['small' '102']]\n"
     ]
    }
   ],
   "source": [
    "# analyze adjectives used\n",
    "one_star_adj = []\n",
    "\n",
    "# collect adjectives that are not stop words\n",
    "for token in doc:\n",
    "    if token.pos_ == 'ADJ':\n",
    "        if ent.label_ not in STOP_WORDS:\n",
    "            one_star_adj.append(str(token))\n",
    "            \n",
    "# sort the list\n",
    "sorted_adj = sorted(one_star_adj, key=str)\n",
    "\n",
    "# store most frequent words as an array\n",
    "most_freq_adj = np.asarray(Counter(sorted_adj).most_common(20))\n",
    "\n",
    "# print the most used adjectives\n",
    "print(most_freq_adj)"
   ]
  },
  {
   "cell_type": "code",
   "execution_count": 24,
   "metadata": {},
   "outputs": [
    {
     "data": {
      "image/png": "[encoded data removed]",
      "text/plain": [
       "<Figure size 432x288 with 1 Axes>"
      ]
     },
     "metadata": {
      "needs_background": "light"
     },
     "output_type": "display_data"
    }
   ],
   "source": [
    "fig, ax = plt.subplots()\n",
    "\n",
    "plt.barh(most_freq_adj[:, 0], [int(i) for i in most_freq_adj[:, 1]],\n",
    "        color='green', align='center')\n",
    "\n",
    "ax.invert_yaxis()\n",
    "ax.set_xlabel('Frequently Used Adjectives in 1-Star Reviews')\n",
    "\n",
    "plt.show()"
   ]
  },
  {
   "cell_type": "markdown",
   "metadata": {},
   "source": [
    "## Adjective Analysis\n",
    "\n",
    "Interestingly, as shown in the bar chart above, the most frequent adjective used in 1-star reviews was the word 'good'. The word 'bad' was the fifth most used adjective in 1-star reviews (for this specific sample of data). The overall list of adjectives makes sense, since terms such as 'bad', 'old', and 'disappointed' appear on the list."
   ]
  }
 ],
 "metadata": {
  "kernelspec": {
   "display_name": "Python 3",
   "language": "python",
   "name": "python3"
  },
  "language_info": {
   "codemirror_mode": {
    "name": "ipython",
    "version": 3
   },
   "file_extension": ".py",
   "mimetype": "text/x-python",
   "name": "python",
   "nbconvert_exporter": "python",
   "pygments_lexer": "ipython3",
   "version": "3.8.5"
  }
 },
 "nbformat": 4,
 "nbformat_minor": 4
}
